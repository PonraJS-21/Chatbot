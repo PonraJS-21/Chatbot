{
 "cells": [
  {
   "cell_type": "code",
   "execution_count": 1,
   "metadata": {},
   "outputs": [],
   "source": [
    "#! /usr/bin/python\n",
    "# -*- coding: utf-8 -*-\n",
    "\n",
    "import tensorflow as tf\n",
    "import tensorlayer as tl\n",
    "import numpy as np\n",
    "from tensorlayer.cost import cross_entropy_seq, cross_entropy_seq_with_mask\n",
    "from tqdm import tqdm\n",
    "from sklearn.utils import shuffle\n",
    "from data.twitter import data\n",
    "from tensorlayer.models.seq2seq import Seq2seq\n",
    "from tensorlayer.models.seq2seq_with_attention import Seq2seqLuongAttention\n",
    "import os"
   ]
  },
  {
   "cell_type": "code",
   "execution_count": 2,
   "metadata": {},
   "outputs": [
    {
     "name": "stdout",
     "output_type": "stream",
     "text": [
      "[TL] Embedding embedding_1: (8004, 1024)\n",
      "[TL] RNN rnn_1: cell: GRUCell, n_units: 256\n",
      "[TL] RNN rnn_2: cell: GRUCell, n_units: 256\n",
      "[TL] RNN rnn_3: cell: GRUCell, n_units: 256\n",
      "[TL] RNN rnn_4: cell: GRUCell, n_units: 256\n",
      "[TL] RNN rnn_5: cell: GRUCell, n_units: 256\n",
      "[TL] RNN rnn_6: cell: GRUCell, n_units: 256\n",
      "[TL] Reshape reshape_1\n",
      "[TL] Dense  dense_1: 8004 No Activation\n",
      "[TL] Reshape reshape_2\n",
      "[TL] Reshape reshape_3\n"
     ]
    }
   ],
   "source": [
    "\n",
    "def initial_setup(data_corpus):\n",
    "    metadata, idx_q, idx_a = data.load_data(PATH='data/{}/'.format(data_corpus))\n",
    "    (trainX, trainY), (testX, testY), (validX, validY) = data.split_dataset(idx_q, idx_a)\n",
    "    trainX = tl.prepro.remove_pad_sequences(trainX.tolist())\n",
    "    trainY = tl.prepro.remove_pad_sequences(trainY.tolist())\n",
    "    testX = tl.prepro.remove_pad_sequences(testX.tolist())\n",
    "    testY = tl.prepro.remove_pad_sequences(testY.tolist())\n",
    "    validX = tl.prepro.remove_pad_sequences(validX.tolist())\n",
    "    validY = tl.prepro.remove_pad_sequences(validY.tolist())\n",
    "    return metadata, trainX, trainY, testX, testY, validX, validY\n",
    "\n",
    "\n",
    "\n",
    "if __name__ == \"__main__\":\n",
    "    data_corpus = \"twitter\"\n",
    "\n",
    "    #data preprocessing\n",
    "    metadata, trainX, trainY, testX, testY, validX, validY = initial_setup(data_corpus)\n",
    "\n",
    "    # Parameters\n",
    "    src_len = len(trainX)\n",
    "    tgt_len = len(trainY)\n",
    "\n",
    "    assert src_len == tgt_len\n",
    "\n",
    "    batch_size = 32\n",
    "    n_step = src_len // batch_size\n",
    "    src_vocab_size = len(metadata['idx2w']) # 8002 (0~8001)\n",
    "    emb_dim = 1024\n",
    "\n",
    "    word2idx = metadata['w2idx']   # dict  word 2 index\n",
    "    idx2word = metadata['idx2w']   # list index 2 word\n",
    "\n",
    "    unk_id = word2idx['unk']   # 1\n",
    "    pad_id = word2idx['_']     # 0\n",
    "\n",
    "    start_id = src_vocab_size  # 8002\n",
    "    end_id = src_vocab_size + 1  # 8003\n",
    "\n",
    "    word2idx.update({'start_id': start_id})\n",
    "    word2idx.update({'end_id': end_id})\n",
    "    idx2word = idx2word + ['start_id', 'end_id']\n",
    "\n",
    "    src_vocab_size = tgt_vocab_size = src_vocab_size + 2\n",
    "\n",
    "    num_epochs = 50\n",
    "    vocabulary_size = src_vocab_size\n",
    "    \n",
    "\n",
    "\n",
    "    def inference(seed, top_n):\n",
    "        model_.eval()\n",
    "        seed_id = [word2idx.get(w, unk_id) for w in seed.split(\" \")]\n",
    "        sentence_id = model_(inputs=[[seed_id]], seq_length=20, start_token=start_id, top_n = top_n)\n",
    "        sentence = []\n",
    "        for w_id in sentence_id[0]:\n",
    "            w = idx2word[w_id]\n",
    "            if w == 'end_id':\n",
    "                break\n",
    "            sentence = sentence + [w]\n",
    "        return sentence\n",
    "\n",
    "    decoder_seq_length = 20\n",
    "    model_ = Seq2seq(\n",
    "        decoder_seq_length = decoder_seq_length,\n",
    "        cell_enc=tf.keras.layers.GRUCell,\n",
    "        cell_dec=tf.keras.layers.GRUCell,\n",
    "        n_layer=3,\n",
    "        n_units=256,\n",
    "        embedding_layer=tl.layers.Embedding(vocabulary_size=vocabulary_size, embedding_size=emb_dim),\n",
    "        )\n"
   ]
  },
  {
   "cell_type": "code",
   "execution_count": 3,
   "metadata": {},
   "outputs": [],
   "source": [
    "    seeds = [\n",
    "            \"What you think about me dude\",\n",
    "            \"donald trump won last nights presidential debate according to snap online polls\",\n",
    "            \"your so cool dude\",\n",
    "            \"Are you ok dude\",\n",
    "            \"Do you know mr.ponraj\",\n",
    "            \"What the fuck is going on man\"\n",
    "            ]\n"
   ]
  },
  {
   "cell_type": "code",
   "execution_count": 4,
   "metadata": {},
   "outputs": [
    {
     "name": "stdout",
     "output_type": "stream",
     "text": [
      "Query > What you think about me dude\n",
      " > i am not a bit\n",
      " > i am going to see you\n",
      " > i know i dont know what i was going to be the first time i am\n",
      "Query > donald trump won last nights presidential debate according to snap online polls\n",
      " > he was a lie\n",
      " > he is a lot\n",
      " > he has no issue of this tweet\n",
      "Query > your so cool dude\n",
      " > i know i love you\n",
      " > i know i am just a fan\n",
      " > i love this    \n",
      "Query > Are you ok dude\n",
      " > i love it  \n",
      " > i love it\n",
      " > i love the video  i am so excited\n",
      "Query > Do you know mr.ponraj\n",
      " > i am not going\n",
      " > i know what a lot\n",
      " > i love this tweet\n",
      "Query > What the fuck is going on man\n",
      " > i think i was going to be a good thing i think i was\n",
      " > i am so good\n",
      " > i am going on this\n"
     ]
    }
   ],
   "source": [
    "    load_weights = tl.files.load_npz(name='model.npz')\n",
    "    tl.files.assign_weights(load_weights, model_)\n",
    "    for seed in seeds:\n",
    "        print(\"Query >\", seed)\n",
    "        top_n = 3\n",
    "        for i in range(top_n):\n",
    "            sentence = inference(seed, top_n)\n",
    "            print(\" >\", ' '.join(sentence))"
   ]
  },
  {
   "cell_type": "code",
   "execution_count": null,
   "metadata": {},
   "outputs": [],
   "source": []
  }
 ],
 "metadata": {
  "kernelspec": {
   "display_name": "Python 3",
   "language": "python",
   "name": "python3"
  },
  "language_info": {
   "codemirror_mode": {
    "name": "ipython",
    "version": 3
   },
   "file_extension": ".py",
   "mimetype": "text/x-python",
   "name": "python",
   "nbconvert_exporter": "python",
   "pygments_lexer": "ipython3",
   "version": "3.7.4"
  }
 },
 "nbformat": 4,
 "nbformat_minor": 2
}
